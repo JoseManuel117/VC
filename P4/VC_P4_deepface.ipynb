{
 "cells": [
  {
   "cell_type": "markdown",
   "metadata": {},
   "source": [
    "Detección de caras con webcam"
   ]
  },
  {
   "cell_type": "code",
   "execution_count": 1,
   "metadata": {},
   "outputs": [],
   "source": [
    "import cv2\n",
    "import time\n",
    "#from deepface import DeepFace\n",
    "from retinaface import RetinaFace\n"
   ]
  },
  {
   "cell_type": "markdown",
   "metadata": {},
   "source": [
    "Deepface\n",
    "\n",
    "Deepface crea directorios para descargar los modelos, cuidado si tienes el disco bastante lleno. Es posible configurar la ruta, en mi caso uso  E:\\RUNNERS_code\\code\\DeepFace, tras definir la ruta a través de la variable de entorno DEEPFACE_HOME\n",
    "\n",
    "pip install retina-face o pip install deepface"
   ]
  },
  {
   "cell_type": "code",
   "execution_count": 2,
   "metadata": {},
   "outputs": [
    {
     "name": "stdout",
     "output_type": "stream",
     "text": [
      "Camera 0\n",
      "Directory  C:\\Users\\ganma /.deepface created\n",
      "Directory  C:\\Users\\ganma /.deepface/weights created\n",
      "retinaface.h5 will be downloaded from the url https://github.com/serengil/deepface_models/releases/download/v1.0/retinaface.h5\n"
     ]
    },
    {
     "name": "stderr",
     "output_type": "stream",
     "text": [
      "Downloading...\n",
      "From: https://github.com/serengil/deepface_models/releases/download/v1.0/retinaface.h5\n",
      "To: C:\\Users\\ganma\\.deepface\\weights\\retinaface.h5\n",
      "100%|██████████| 119M/119M [00:02<00:00, 46.1MB/s] \n"
     ]
    },
    {
     "name": "stdout",
     "output_type": "stream",
     "text": [
      "{'score': 0.9989750385284424, 'facial_area': [315, 200, 478, 432], 'landmarks': {'right_eye': [332.9966, 305.21548], 'left_eye': [393.2311, 296.47223], 'nose': [345.9946, 347.34753], 'mouth_right': [353.77612, 385.16293], 'mouth_left': [402.85956, 377.22717]}}\n",
      "{'score': 0.9987280964851379, 'facial_area': [318, 200, 475, 429], 'landmarks': {'right_eye': [334.6327, 300.8954], 'left_eye': [389.24133, 299.03146], 'nose': [339.93158, 345.9065], 'mouth_right': [351.25803, 381.59622], 'mouth_left': [393.2194, 379.7578]}}\n",
      "{'score': 0.998843789100647, 'facial_area': [329, 187, 488, 417], 'landmarks': {'right_eye': [347.29797, 286.00848], 'left_eye': [407.81183, 286.65198], 'nose': [354.74826, 329.26767], 'mouth_right': [357.30994, 365.31024], 'mouth_left': [404.54385, 365.71515]}}\n",
      "{'score': 0.9990665316581726, 'facial_area': [328, 188, 484, 417], 'landmarks': {'right_eye': [344.75375, 285.27402], 'left_eye': [402.70416, 286.07922], 'nose': [348.8417, 328.8892], 'mouth_right': [353.3912, 366.01163], 'mouth_left': [397.88873, 366.76932]}}\n",
      "{'score': 0.9990259408950806, 'facial_area': [329, 190, 486, 416], 'landmarks': {'right_eye': [345.90253, 287.6293], 'left_eye': [402.59894, 289.05667], 'nose': [349.0307, 330.95126], 'mouth_right': [355.72992, 366.33194], 'mouth_left': [398.88507, 367.3911]}}\n",
      "{'score': 0.9993937015533447, 'facial_area': [321, 193, 484, 424], 'landmarks': {'right_eye': [340.21097, 295.538], 'left_eye': [399.28598, 294.94562], 'nose': [347.2574, 339.8413], 'mouth_right': [352.54156, 374.0972], 'mouth_left': [400.05396, 373.28067]}}\n",
      "{'score': 0.9991346001625061, 'facial_area': [323, 196, 482, 425], 'landmarks': {'right_eye': [341.7036, 294.98505], 'left_eye': [399.7046, 294.31985], 'nose': [347.03302, 337.1938], 'mouth_right': [350.82513, 375.1872], 'mouth_left': [396.19135, 374.60248]}}\n",
      "{'score': 0.9992062449455261, 'facial_area': [327, 192, 488, 424], 'landmarks': {'right_eye': [344.56934, 292.30194], 'left_eye': [400.89978, 292.7852], 'nose': [346.46814, 336.1531], 'mouth_right': [354.4952, 373.84222], 'mouth_left': [398.46432, 374.09018]}}\n",
      "{'score': 0.9992266893386841, 'facial_area': [326, 190, 486, 422], 'landmarks': {'right_eye': [343.33734, 289.42944], 'left_eye': [400.05383, 290.5302], 'nose': [344.9539, 333.37686], 'mouth_right': [351.2348, 370.50183], 'mouth_left': [395.6515, 371.37457]}}\n",
      "{'score': 0.9991093277931213, 'facial_area': [320, 173, 486, 411], 'landmarks': {'right_eye': [347.9066, 273.61078], 'left_eye': [415.3391, 279.11356], 'nose': [366.68286, 332.23877], 'mouth_right': [358.7945, 355.67426], 'mouth_left': [414.71933, 359.52264]}}\n",
      "{'score': 0.9990763664245605, 'facial_area': [167, 168, 326, 399], 'landmarks': {'right_eye': [186.77771, 270.36932], 'left_eye': [238.41438, 268.44763], 'nose': [190.63258, 312.00296], 'mouth_right': [200.49475, 349.11603], 'mouth_left': [242.27524, 346.62494]}}\n",
      "{'score': 0.9993789196014404, 'facial_area': [60, 158, 222, 406], 'landmarks': {'right_eye': [75.5621, 262.33673], 'left_eye': [125.30882, 260.58084], 'nose': [70.013565, 304.60474], 'mouth_right': [86.50721, 350.09622], 'mouth_left': [126.07286, 348.13443]}}\n",
      "{'score': 0.9992746710777283, 'facial_area': [169, 155, 344, 400], 'landmarks': {'right_eye': [182.45592, 261.08594], 'left_eye': [242.84499, 258.19626], 'nose': [183.30801, 305.5952], 'mouth_right': [199.19908, 347.47653], 'mouth_left': [246.97545, 344.34885]}}\n",
      "{'score': 0.9990372657775879, 'facial_area': [284, 134, 442, 364], 'landmarks': {'right_eye': [302.96176, 230.5391], 'left_eye': [361.65198, 232.6411], 'nose': [307.04404, 273.79297], 'mouth_right': [309.74002, 311.91757], 'mouth_left': [354.45514, 313.8242]}}\n",
      "{'score': 0.999616265296936, 'facial_area': [312, 145, 487, 400], 'landmarks': {'right_eye': [353.21994, 239.75822], 'left_eye': [436.44077, 251.05026], 'nose': [384.17334, 301.62964], 'mouth_right': [352.7052, 334.92035], 'mouth_left': [419.48032, 344.73053]}}\n",
      "{'score': 0.9995079040527344, 'facial_area': [343, 169, 565, 461], 'landmarks': {'right_eye': [430.85684, 295.91873], 'left_eye': [522.5499, 309.26334], 'nose': [479.47705, 378.07874], 'mouth_right': [413.49487, 389.56448], 'mouth_left': [495.07986, 399.99725]}}\n",
      "{'score': 0.999306321144104, 'facial_area': [316, 145, 513, 429], 'landmarks': {'right_eye': [382.97406, 268.27322], 'left_eye': [471.80005, 271.00333], 'nose': [432.02145, 338.7597], 'mouth_right': [381.06805, 362.0251], 'mouth_left': [458.48334, 363.45758]}}\n",
      "{'score': 0.9989821314811707, 'facial_area': [316, 139, 504, 427], 'landmarks': {'right_eye': [370.70966, 251.19498], 'left_eye': [458.0194, 256.32022], 'nose': [413.56052, 320.77594], 'mouth_right': [373.593, 355.96796], 'mouth_left': [444.06958, 360.1524]}}\n",
      "{'score': 0.9988898634910583, 'facial_area': [311, 137, 499, 425], 'landmarks': {'right_eye': [360.74796, 248.21278], 'left_eye': [447.90775, 255.6469], 'nose': [398.97525, 318.61072], 'mouth_right': [362.22247, 351.14847], 'mouth_left': [434.1197, 357.6095]}}\n",
      "{'score': 0.9984868764877319, 'facial_area': [313, 143, 503, 434], 'landmarks': {'right_eye': [360.762, 258.07672], 'left_eye': [448.42404, 265.07993], 'nose': [397.7568, 330.24185], 'mouth_right': [361.83713, 359.4238], 'mouth_left': [437.19305, 365.57782]}}\n",
      "{'score': 0.9984509944915771, 'facial_area': [314, 147, 502, 433], 'landmarks': {'right_eye': [358.77695, 259.72778], 'left_eye': [447.6, 266.66003], 'nose': [395.65845, 332.17355], 'mouth_right': [360.50204, 358.46027], 'mouth_left': [438.1779, 364.5284]}}\n",
      "{'score': 0.9985609650611877, 'facial_area': [320, 149, 505, 432], 'landmarks': {'right_eye': [365.6258, 261.16132], 'left_eye': [453.48376, 265.43805], 'nose': [404.3831, 330.53244], 'mouth_right': [368.3783, 359.20068], 'mouth_left': [444.75415, 362.79153]}}\n",
      "{'score': 0.9989895224571228, 'facial_area': [334, 147, 525, 431], 'landmarks': {'right_eye': [388.83334, 259.29694], 'left_eye': [477.10678, 268.8823], 'nose': [428.63837, 334.9955], 'mouth_right': [384.86896, 356.33777], 'mouth_left': [462.4074, 364.55826]}}\n",
      "{'score': 0.9985987544059753, 'facial_area': [307, 139, 505, 427], 'landmarks': {'right_eye': [341.92706, 262.26773], 'left_eye': [428.69925, 268.62463], 'nose': [367.69315, 331.41614], 'mouth_right': [344.94278, 356.47928], 'mouth_left': [422.6526, 361.91772]}}\n",
      "{'score': 0.9986429810523987, 'facial_area': [329, 142, 519, 428], 'landmarks': {'right_eye': [381.36325, 255.82333], 'left_eye': [469.20746, 262.3195], 'nose': [421.04935, 326.41446], 'mouth_right': [381.36972, 355.48343], 'mouth_left': [456.23398, 361.0948]}}\n",
      "{'score': 0.998808741569519, 'facial_area': [335, 143, 527, 430], 'landmarks': {'right_eye': [394.34467, 258.574], 'left_eye': [480.23898, 265.68982], 'nose': [435.6432, 330.34354], 'mouth_right': [391.43314, 357.44754], 'mouth_left': [464.71768, 363.47607]}}\n",
      "{'score': 0.9987800717353821, 'facial_area': [335, 150, 527, 436], 'landmarks': {'right_eye': [391.86914, 264.8434], 'left_eye': [480.77155, 270.997], 'nose': [434.70154, 338.6063], 'mouth_right': [392.1929, 367.26782], 'mouth_left': [464.35712, 372.47794]}}\n",
      "{'score': 0.9986953139305115, 'facial_area': [337, 147, 531, 437], 'landmarks': {'right_eye': [394.72693, 263.85876], 'left_eye': [480.61618, 274.79233], 'nose': [432.41177, 338.38925], 'mouth_right': [388.2198, 360.69647], 'mouth_left': [463.71866, 370.26212]}}\n",
      "{'score': 0.9988501071929932, 'facial_area': [339, 150, 534, 437], 'landmarks': {'right_eye': [398.82986, 262.4058], 'left_eye': [486.22626, 274.2934], 'nose': [437.6481, 338.98996], 'mouth_right': [392.68173, 362.11032], 'mouth_left': [466.5553, 372.14188]}}\n",
      "{'score': 0.9989346861839294, 'facial_area': [338, 150, 530, 432], 'landmarks': {'right_eye': [395.73886, 260.61182], 'left_eye': [483.16324, 272.79916], 'nose': [434.40967, 335.27805], 'mouth_right': [389.92365, 359.32657], 'mouth_left': [463.3696, 369.91776]}}\n",
      "{'score': 0.9990942478179932, 'facial_area': [337, 151, 529, 429], 'landmarks': {'right_eye': [395.2122, 260.97873], 'left_eye': [482.64847, 272.52316], 'nose': [434.24008, 334.94424], 'mouth_right': [389.96732, 358.34558], 'mouth_left': [463.1925, 368.35156]}}\n",
      "{'score': 0.9988915324211121, 'facial_area': [310, 139, 493, 417], 'landmarks': {'right_eye': [361.4857, 250.16368], 'left_eye': [449.51013, 250.91963], 'nose': [406.81375, 315.8578], 'mouth_right': [369.28082, 353.38794], 'mouth_left': [437.34576, 353.67026]}}\n"
     ]
    }
   ],
   "source": [
    "# Webcam connection\n",
    "cap = cv2.VideoCapture(0)\n",
    "# Check for other cameras\n",
    "if not cap.isOpened():\n",
    "    cap = cv2.VideoCapture(1)\n",
    "    if not cap.isOpened():\n",
    "        cap = cv2.VideoCapture(0)\n",
    "        if not cap.isOpened():\n",
    "            print('Camera error')\n",
    "            exit(0)\n",
    "        else:\n",
    "            print('Camera 0')\n",
    "    else:\n",
    "        print('Camera 1')\n",
    "else:\n",
    "    print('Camera 0')\n",
    "\n",
    "#Set camera resolution\n",
    "cap.set(3,640);\n",
    "cap.set(4,480);\n",
    "\n",
    "while True:\n",
    "    # Get frame\n",
    "    t = time.time()\n",
    "    ret, frame = cap.read()\n",
    "\n",
    "\n",
    "    #Deepface detecta caras y se queda con primera\n",
    "    #face = DeepFace.detectFace(img_path = frame, \n",
    "    #    target_size = (224, 224), \n",
    "    #    detector_backend = backends[4]\n",
    "    #)\n",
    "\n",
    "    #Detectar múltiples (https://sefiks.com/2021/04/27/deep-face-detection-with-retinaface-in-python/)\n",
    "    #Devuelve un dict\n",
    "    faces = RetinaFace.detect_faces(frame);\n",
    "    #Si hay detecciones\n",
    "    if len(faces) > 0:\n",
    "        #Dibuja contenedor y elementos faciales\n",
    "        for idx in range(1,len(faces)+1):\n",
    "            id = 'face_' + str(idx)\n",
    "            #Muestra información de caras\n",
    "            print(faces[id])\n",
    "            #Accediendo a contenedor de la cara\n",
    "            facial_area = faces[id]['facial_area']\n",
    "            #Accediendo a datos de los elementos faciales\n",
    "            landmarks = faces[id]['landmarks']\n",
    "            #Debug\n",
    "            #print(facial_area)\n",
    "            #print(landmarks)\n",
    "            \n",
    "            #Contenedor\n",
    "            cv2.rectangle(frame, (facial_area[2], facial_area[3])\n",
    "            , (facial_area[0], facial_area[1]), (255, 255, 255), 1)\n",
    "\n",
    "            #Elementos faciales\n",
    "            cv2.circle(frame, (int(landmarks[\"left_eye\"][0]),int(landmarks[\"left_eye\"][1])), 3, (0, 0, 255), -1)\n",
    "            cv2.circle(frame, (int(landmarks[\"right_eye\"][0]),int(landmarks[\"right_eye\"][1])), 3, (0, 0, 255), -1)\n",
    "            cv2.circle(frame, (int(landmarks[\"nose\"][0]),int(landmarks[\"nose\"][1])), 3, (255, 0, 0), -1)\n",
    "            cv2.circle(frame, (int(landmarks[\"mouth_left\"][0]),int(landmarks[\"mouth_left\"][1])), 3, (0, 255, 0), -1)\n",
    "            cv2.circle(frame, (int(landmarks[\"mouth_right\"][0]),int(landmarks[\"mouth_right\"][1])), 3, (0, 255, 0), -1)\n",
    "     \n",
    "    #Muestra imagen\n",
    "    cv2.imshow('Cam', frame)\n",
    "    \n",
    "    #Esperar por tecla o seguir\n",
    "    tec = cv2.waitKey(40)\n",
    "    if tec & tec == 27:  # Esc\n",
    "        break\n",
    "    \n",
    "#Cerrar ventanas y cámara\n",
    "cap.release()\n",
    "cv2.destroyAllWindows()"
   ]
  }
 ],
 "metadata": {
  "kernelspec": {
   "display_name": "Python 3.9.0 ('deepface')",
   "language": "python",
   "name": "python3"
  },
  "language_info": {
   "codemirror_mode": {
    "name": "ipython",
    "version": 3
   },
   "file_extension": ".py",
   "mimetype": "text/x-python",
   "name": "python",
   "nbconvert_exporter": "python",
   "pygments_lexer": "ipython3",
   "version": "3.11.5"
  },
  "vscode": {
   "interpreter": {
    "hash": "12028effb1af0cd2244438ff9b17d06bb1d7695ec7a554a144e43ec4b8b79006"
   }
  }
 },
 "nbformat": 4,
 "nbformat_minor": 2
}
